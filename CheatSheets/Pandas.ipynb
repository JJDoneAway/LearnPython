{
 "cells": [
  {
   "cell_type": "markdown",
   "metadata": {},
   "source": [
    "# Panda Basics\n",
    "## open a CSV and show some rows\n",
    "for all the parameters to read csv files please read:\n",
    "please read https://pandas.pydata.org/pandas-docs/stable/generated/pandas.read_csv.html"
   ]
  },
  {
   "cell_type": "code",
   "execution_count": 92,
   "metadata": {},
   "outputs": [
    {
     "data": {
      "text/html": [
       "<div>\n",
       "<style scoped>\n",
       "    .dataframe tbody tr th:only-of-type {\n",
       "        vertical-align: middle;\n",
       "    }\n",
       "\n",
       "    .dataframe tbody tr th {\n",
       "        vertical-align: top;\n",
       "    }\n",
       "\n",
       "    .dataframe thead th {\n",
       "        text-align: right;\n",
       "    }\n",
       "</style>\n",
       "<table border=\"1\" class=\"dataframe\">\n",
       "  <thead>\n",
       "    <tr style=\"text-align: right;\">\n",
       "      <th></th>\n",
       "      <th>policyID</th>\n",
       "      <th>statecode</th>\n",
       "      <th>county</th>\n",
       "      <th>point_latitude</th>\n",
       "      <th>point_longitude</th>\n",
       "      <th>line</th>\n",
       "      <th>construction</th>\n",
       "      <th>point_granularity</th>\n",
       "    </tr>\n",
       "  </thead>\n",
       "  <tbody>\n",
       "    <tr>\n",
       "      <th>0</th>\n",
       "      <td>119736</td>\n",
       "      <td>FL</td>\n",
       "      <td>CLAY COUNTY</td>\n",
       "      <td>30102261</td>\n",
       "      <td>-81711777</td>\n",
       "      <td>Residential</td>\n",
       "      <td>Masonry</td>\n",
       "      <td>1</td>\n",
       "    </tr>\n",
       "    <tr>\n",
       "      <th>1</th>\n",
       "      <td>448094</td>\n",
       "      <td>FL</td>\n",
       "      <td>CLAY COUNTY</td>\n",
       "      <td>30063936</td>\n",
       "      <td>-81707664</td>\n",
       "      <td>Residential</td>\n",
       "      <td>Masonry</td>\n",
       "      <td>3</td>\n",
       "    </tr>\n",
       "    <tr>\n",
       "      <th>2</th>\n",
       "      <td>206893</td>\n",
       "      <td>FL</td>\n",
       "      <td>CLAY COUNTY</td>\n",
       "      <td>30089579</td>\n",
       "      <td>-81700455</td>\n",
       "      <td>Residential</td>\n",
       "      <td>Wood</td>\n",
       "      <td>1</td>\n",
       "    </tr>\n",
       "    <tr>\n",
       "      <th>3</th>\n",
       "      <td>333743</td>\n",
       "      <td>FL</td>\n",
       "      <td>CLAY COUNTY</td>\n",
       "      <td>30063236</td>\n",
       "      <td>-81707703</td>\n",
       "      <td>Residential</td>\n",
       "      <td>Wood</td>\n",
       "      <td>3</td>\n",
       "    </tr>\n",
       "    <tr>\n",
       "      <th>4</th>\n",
       "      <td>172534</td>\n",
       "      <td>FL</td>\n",
       "      <td>CLAY COUNTY</td>\n",
       "      <td>30060614</td>\n",
       "      <td>-81702675</td>\n",
       "      <td>Residential</td>\n",
       "      <td>Wood</td>\n",
       "      <td>1</td>\n",
       "    </tr>\n",
       "  </tbody>\n",
       "</table>\n",
       "</div>"
      ],
      "text/plain": [
       "   policyID statecode       county  point_latitude  point_longitude  \\\n",
       "0    119736        FL  CLAY COUNTY        30102261        -81711777   \n",
       "1    448094        FL  CLAY COUNTY        30063936        -81707664   \n",
       "2    206893        FL  CLAY COUNTY        30089579        -81700455   \n",
       "3    333743        FL  CLAY COUNTY        30063236        -81707703   \n",
       "4    172534        FL  CLAY COUNTY        30060614        -81702675   \n",
       "\n",
       "          line construction  point_granularity  \n",
       "0  Residential      Masonry                  1  \n",
       "1  Residential      Masonry                  3  \n",
       "2  Residential         Wood                  1  \n",
       "3  Residential         Wood                  3  \n",
       "4  Residential         Wood                  1  "
      ]
     },
     "execution_count": 92,
     "metadata": {},
     "output_type": "execute_result"
    }
   ],
   "source": [
    "import pandas as pd\n",
    "df = pd.read_csv(\"./sample/FL_insurance_sample.csv\", sep = '\\t')\n",
    "\n",
    "df.head()"
   ]
  },
  {
   "cell_type": "markdown",
   "metadata": {},
   "source": [
    "## Iterate row by row through the data set"
   ]
  },
  {
   "cell_type": "code",
   "execution_count": 20,
   "metadata": {},
   "outputs": [
    {
     "name": "stdout",
     "output_type": "stream",
     "text": [
      "Unique Row ID: 11\n",
      "policyID                  894922\n",
      "statecode                     FL\n",
      "county               CLAY COUNTY\n",
      "point_latitude          30095957\n",
      "point_longitude        -81695099\n",
      "line                 Residential\n",
      "construction                Wood\n",
      "point_granularity              1\n",
      "Name: 11, dtype: object\n"
     ]
    }
   ],
   "source": [
    "for id, row in df.iterrows():\n",
    "    if id > 10:\n",
    "        print(\"Unique Row ID: \" + str(id))\n",
    "        print(row)\n",
    "    if id >= 11:\n",
    "        break"
   ]
  },
  {
   "cell_type": "markdown",
   "metadata": {},
   "source": [
    "## Get just one column as array"
   ]
  },
  {
   "cell_type": "code",
   "execution_count": 37,
   "metadata": {},
   "outputs": [
    {
     "name": "stdout",
     "output_type": "stream",
     "text": [
      "<class 'pandas.core.series.Series'>\n",
      "Wood\n",
      "Wood\n",
      "Wood\n",
      "Wood\n",
      "Wood\n"
     ]
    }
   ],
   "source": [
    "construnction = df[\"construction\"]\n",
    "print(type(construnction))\n",
    "index = 0\n",
    "for entry in construnction:\n",
    "    if index > 10:\n",
    "        print(entry)\n",
    "    if index >= 15:\n",
    "        break\n",
    "    index+=1"
   ]
  },
  {
   "cell_type": "markdown",
   "metadata": {},
   "source": [
    "## Get just some rows as dictonary"
   ]
  },
  {
   "cell_type": "code",
   "execution_count": 49,
   "metadata": {},
   "outputs": [
    {
     "name": "stdout",
     "output_type": "stream",
     "text": [
      "<class 'pandas.core.series.Series'>\n",
      "------------\n",
      "FL\n",
      "------------\n",
      "policyID                          995932\n",
      "statecode                             FL\n",
      "county                       CLAY COUNTY\n",
      "point_latitude                  30102226\n",
      "point_longitude                -81713882\n",
      "line                          Commercial\n",
      "construction         Reinforced Concrete\n",
      "point_granularity                      1\n",
      "Name: 6, dtype: object\n"
     ]
    }
   ],
   "source": [
    "# get the sixth row\n",
    "my_row = df.iloc[6]\n",
    "print(type(my_row))\n",
    "print('------------')\n",
    "print(my_row['statecode'])\n",
    "print('------------')\n",
    "print(my_row)"
   ]
  },
  {
   "cell_type": "code",
   "execution_count": 41,
   "metadata": {},
   "outputs": [
    {
     "name": "stdout",
     "output_type": "stream",
     "text": [
      "       policyID statecode           county  point_latitude  point_longitude  \\\n",
      "36631    791209        FL  PINELLAS COUNTY         2811055         -8276636   \n",
      "36632    322627        FL  PINELLAS COUNTY        28089415        -82697411   \n",
      "36633    398149        FL  PINELLAS COUNTY         2806444         -8277459   \n",
      "\n",
      "              line construction  point_granularity  \n",
      "36631  Residential         Wood                  4  \n",
      "36632  Residential      Masonry                  3  \n",
      "36633  Residential      Masonry                  1  \n"
     ]
    }
   ],
   "source": [
    "# get the last three rows\n",
    "print(df.iloc[-3:])"
   ]
  },
  {
   "cell_type": "code",
   "execution_count": 40,
   "metadata": {},
   "outputs": [
    {
     "name": "stdout",
     "output_type": "stream",
     "text": [
      "   policyID statecode       county  point_latitude  point_longitude  \\\n",
      "3    333743        FL  CLAY COUNTY        30063236        -81707703   \n",
      "4    172534        FL  CLAY COUNTY        30060614        -81702675   \n",
      "5    785275        FL  CLAY COUNTY        30063236        -81707703   \n",
      "\n",
      "          line construction  point_granularity  \n",
      "3  Residential         Wood                  3  \n",
      "4  Residential         Wood                  1  \n",
      "5  Residential      Masonry                  3  \n"
     ]
    }
   ],
   "source": [
    "#get the third to the sixth row\n",
    "print(df.iloc[3:6])"
   ]
  },
  {
   "cell_type": "markdown",
   "metadata": {},
   "source": [
    "## Sort records\n",
    "there are some parameters which can be used to do klever sortings: \n",
    "http://pandas.pydata.org/pandas-docs/stable/generated/pandas.DataFrame.sort_values.html"
   ]
  },
  {
   "cell_type": "code",
   "execution_count": 89,
   "metadata": {},
   "outputs": [
    {
     "data": {
      "text/html": [
       "<div>\n",
       "<style scoped>\n",
       "    .dataframe tbody tr th:only-of-type {\n",
       "        vertical-align: middle;\n",
       "    }\n",
       "\n",
       "    .dataframe tbody tr th {\n",
       "        vertical-align: top;\n",
       "    }\n",
       "\n",
       "    .dataframe thead th {\n",
       "        text-align: right;\n",
       "    }\n",
       "</style>\n",
       "<table border=\"1\" class=\"dataframe\">\n",
       "  <thead>\n",
       "    <tr style=\"text-align: right;\">\n",
       "      <th></th>\n",
       "      <th>policyID</th>\n",
       "      <th>statecode</th>\n",
       "      <th>county</th>\n",
       "      <th>point_latitude</th>\n",
       "      <th>point_longitude</th>\n",
       "      <th>line</th>\n",
       "      <th>construction</th>\n",
       "      <th>point_granularity</th>\n",
       "    </tr>\n",
       "  </thead>\n",
       "  <tbody>\n",
       "    <tr>\n",
       "      <th>6</th>\n",
       "      <td>995932</td>\n",
       "      <td>FL</td>\n",
       "      <td>CLAY COUNTY</td>\n",
       "      <td>30102226</td>\n",
       "      <td>-81713882</td>\n",
       "      <td>Commercial</td>\n",
       "      <td>Reinforced Concrete</td>\n",
       "      <td>1</td>\n",
       "    </tr>\n",
       "    <tr>\n",
       "      <th>5</th>\n",
       "      <td>785275</td>\n",
       "      <td>FL</td>\n",
       "      <td>CLAY COUNTY</td>\n",
       "      <td>30063236</td>\n",
       "      <td>-81707703</td>\n",
       "      <td>Residential</td>\n",
       "      <td>Masonry</td>\n",
       "      <td>3</td>\n",
       "    </tr>\n",
       "    <tr>\n",
       "      <th>1</th>\n",
       "      <td>448094</td>\n",
       "      <td>FL</td>\n",
       "      <td>CLAY COUNTY</td>\n",
       "      <td>30063936</td>\n",
       "      <td>-81707664</td>\n",
       "      <td>Residential</td>\n",
       "      <td>Masonry</td>\n",
       "      <td>3</td>\n",
       "    </tr>\n",
       "    <tr>\n",
       "      <th>8</th>\n",
       "      <td>433512</td>\n",
       "      <td>FL</td>\n",
       "      <td>CLAY COUNTY</td>\n",
       "      <td>30118774</td>\n",
       "      <td>-81704613</td>\n",
       "      <td>Residential</td>\n",
       "      <td>Wood</td>\n",
       "      <td>1</td>\n",
       "    </tr>\n",
       "    <tr>\n",
       "      <th>3</th>\n",
       "      <td>333743</td>\n",
       "      <td>FL</td>\n",
       "      <td>CLAY COUNTY</td>\n",
       "      <td>30063236</td>\n",
       "      <td>-81707703</td>\n",
       "      <td>Residential</td>\n",
       "      <td>Wood</td>\n",
       "      <td>3</td>\n",
       "    </tr>\n",
       "    <tr>\n",
       "      <th>7</th>\n",
       "      <td>223488</td>\n",
       "      <td>FL</td>\n",
       "      <td>CLAY COUNTY</td>\n",
       "      <td>30102217</td>\n",
       "      <td>-81707146</td>\n",
       "      <td>Residential</td>\n",
       "      <td>Wood</td>\n",
       "      <td>1</td>\n",
       "    </tr>\n",
       "    <tr>\n",
       "      <th>2</th>\n",
       "      <td>206893</td>\n",
       "      <td>FL</td>\n",
       "      <td>CLAY COUNTY</td>\n",
       "      <td>30089579</td>\n",
       "      <td>-81700455</td>\n",
       "      <td>Residential</td>\n",
       "      <td>Wood</td>\n",
       "      <td>1</td>\n",
       "    </tr>\n",
       "    <tr>\n",
       "      <th>4</th>\n",
       "      <td>172534</td>\n",
       "      <td>FL</td>\n",
       "      <td>CLAY COUNTY</td>\n",
       "      <td>30060614</td>\n",
       "      <td>-81702675</td>\n",
       "      <td>Residential</td>\n",
       "      <td>Wood</td>\n",
       "      <td>1</td>\n",
       "    </tr>\n",
       "    <tr>\n",
       "      <th>9</th>\n",
       "      <td>142071</td>\n",
       "      <td>FL</td>\n",
       "      <td>CLAY COUNTY</td>\n",
       "      <td>30100628</td>\n",
       "      <td>-81703751</td>\n",
       "      <td>Residential</td>\n",
       "      <td>Masonry</td>\n",
       "      <td>1</td>\n",
       "    </tr>\n",
       "    <tr>\n",
       "      <th>0</th>\n",
       "      <td>119736</td>\n",
       "      <td>FL</td>\n",
       "      <td>CLAY COUNTY</td>\n",
       "      <td>30102261</td>\n",
       "      <td>-81711777</td>\n",
       "      <td>Residential</td>\n",
       "      <td>Masonry</td>\n",
       "      <td>1</td>\n",
       "    </tr>\n",
       "  </tbody>\n",
       "</table>\n",
       "</div>"
      ],
      "text/plain": [
       "   policyID statecode       county  point_latitude  point_longitude  \\\n",
       "6    995932        FL  CLAY COUNTY        30102226        -81713882   \n",
       "5    785275        FL  CLAY COUNTY        30063236        -81707703   \n",
       "1    448094        FL  CLAY COUNTY        30063936        -81707664   \n",
       "8    433512        FL  CLAY COUNTY        30118774        -81704613   \n",
       "3    333743        FL  CLAY COUNTY        30063236        -81707703   \n",
       "7    223488        FL  CLAY COUNTY        30102217        -81707146   \n",
       "2    206893        FL  CLAY COUNTY        30089579        -81700455   \n",
       "4    172534        FL  CLAY COUNTY        30060614        -81702675   \n",
       "9    142071        FL  CLAY COUNTY        30100628        -81703751   \n",
       "0    119736        FL  CLAY COUNTY        30102261        -81711777   \n",
       "\n",
       "          line         construction  point_granularity  \n",
       "6   Commercial  Reinforced Concrete                  1  \n",
       "5  Residential              Masonry                  3  \n",
       "1  Residential              Masonry                  3  \n",
       "8  Residential                 Wood                  1  \n",
       "3  Residential                 Wood                  3  \n",
       "7  Residential                 Wood                  1  \n",
       "2  Residential                 Wood                  1  \n",
       "4  Residential                 Wood                  1  \n",
       "9  Residential              Masonry                  1  \n",
       "0  Residential              Masonry                  1  "
      ]
     },
     "execution_count": 89,
     "metadata": {},
     "output_type": "execute_result"
    }
   ],
   "source": [
    "df.iloc[:10].sort_values('policyID', ascending = False)"
   ]
  },
  {
   "cell_type": "markdown",
   "metadata": {},
   "source": [
    "## Filter dedicated records\n",
    "if you have one column with your filter criteris (e.g. the matherial of construction) you can filter all records by this column (e.g. all records which are not out of wood) "
   ]
  },
  {
   "cell_type": "code",
   "execution_count": 97,
   "metadata": {},
   "outputs": [
    {
     "data": {
      "text/html": [
       "<div>\n",
       "<style scoped>\n",
       "    .dataframe tbody tr th:only-of-type {\n",
       "        vertical-align: middle;\n",
       "    }\n",
       "\n",
       "    .dataframe tbody tr th {\n",
       "        vertical-align: top;\n",
       "    }\n",
       "\n",
       "    .dataframe thead th {\n",
       "        text-align: right;\n",
       "    }\n",
       "</style>\n",
       "<table border=\"1\" class=\"dataframe\">\n",
       "  <thead>\n",
       "    <tr style=\"text-align: right;\">\n",
       "      <th></th>\n",
       "      <th>policyID</th>\n",
       "      <th>statecode</th>\n",
       "      <th>county</th>\n",
       "      <th>point_latitude</th>\n",
       "      <th>point_longitude</th>\n",
       "      <th>line</th>\n",
       "      <th>construction</th>\n",
       "      <th>point_granularity</th>\n",
       "    </tr>\n",
       "  </thead>\n",
       "  <tbody>\n",
       "    <tr>\n",
       "      <th>830</th>\n",
       "      <td>110888</td>\n",
       "      <td>FL</td>\n",
       "      <td>CLAY COUNTY</td>\n",
       "      <td>30100992</td>\n",
       "      <td>-81955376</td>\n",
       "      <td>Residential</td>\n",
       "      <td>Masonry</td>\n",
       "      <td>1</td>\n",
       "    </tr>\n",
       "    <tr>\n",
       "      <th>849</th>\n",
       "      <td>110872</td>\n",
       "      <td>FL</td>\n",
       "      <td>CLAY COUNTY</td>\n",
       "      <td>3018584</td>\n",
       "      <td>-8171522</td>\n",
       "      <td>Residential</td>\n",
       "      <td>Masonry</td>\n",
       "      <td>1</td>\n",
       "    </tr>\n",
       "  </tbody>\n",
       "</table>\n",
       "</div>"
      ],
      "text/plain": [
       "     policyID statecode       county  point_latitude  point_longitude  \\\n",
       "830    110888        FL  CLAY COUNTY        30100992        -81955376   \n",
       "849    110872        FL  CLAY COUNTY         3018584         -8171522   \n",
       "\n",
       "            line construction  point_granularity  \n",
       "830  Residential      Masonry                  1  \n",
       "849  Residential      Masonry                  1  "
      ]
     },
     "execution_count": 97,
     "metadata": {},
     "output_type": "execute_result"
    }
   ],
   "source": [
    "non_wood = df[df['county'] == 'CLAY COUNTY']\n",
    "non_wood = non_wood[non_wood['construction'] != 'Wood']\n",
    "non_wood = non_wood[non_wood['policyID'] < 119736]\n",
    "non_wood"
   ]
  },
  {
   "cell_type": "markdown",
   "metadata": {},
   "source": [
    "## Plot results\n",
    "we plot for all geolocations in Florida (just the continent) one point "
   ]
  },
  {
   "cell_type": "code",
   "execution_count": 84,
   "metadata": {},
   "outputs": [
    {
     "data": {
      "image/png": "[encoded data removed]",
      "text/plain": [
       "<Figure size 432x288 with 1 Axes>"
      ]
     },
     "metadata": {},
     "output_type": "display_data"
    }
   ],
   "source": [
    "%matplotlib inline\n",
    "import matplotlib.pyplot as plt\n",
    "\n",
    "subset = df[df['statecode'] == 'FL']\n",
    "subset = subset[subset['point_longitude'] < -0.6e8 ]\n",
    "subset = subset[subset['point_latitude'] > 2.0e7]\n",
    "\n",
    "longitudes = subset['point_longitude']\n",
    "latitudes = subset['point_latitude']\n",
    "\n",
    "plt.plot(longitudes, latitudes, 's')\n",
    "plt.show()"
   ]
  },
  {
   "cell_type": "code",
   "execution_count": null,
   "metadata": {},
   "outputs": [],
   "source": []
  }
 ],
 "metadata": {
  "kernelspec": {
   "display_name": "Python 3",
   "language": "python",
   "name": "python3"
  },
  "language_info": {
   "codemirror_mode": {
    "name": "ipython",
    "version": 3
   },
   "file_extension": ".py",
   "mimetype": "text/x-python",
   "name": "python",
   "nbconvert_exporter": "python",
   "pygments_lexer": "ipython3",
   "version": "3.6.5"
  }
 },
 "nbformat": 4,
 "nbformat_minor": 2
}
