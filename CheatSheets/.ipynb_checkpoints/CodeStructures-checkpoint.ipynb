{
 "cells": [
  {
   "cell_type": "markdown",
   "metadata": {},
   "source": [
    "# Ordenary Code\n",
    "\n",
    "Just create a scripte line by line\n",
    "e.g.:"
   ]
  },
  {
   "cell_type": "code",
   "execution_count": 1,
   "metadata": {},
   "outputs": [
    {
     "name": "stdout",
     "output_type": "stream",
     "text": [
      "8\n"
     ]
    }
   ],
   "source": [
    "a = 3\n",
    "b = 5\n",
    "c = a + b\n",
    "print(c)"
   ]
  },
  {
   "cell_type": "markdown",
   "metadata": {},
   "source": [
    "# Functions\n",
    "\n",
    "start with the key word \n",
    "\n",
    "- **dev** followed by the \n",
    "- **{function name}** \n",
    "- round brackets for the with the function parameters\n",
    "- colon (**:**) at the end of the line\n",
    "- the function body must be **indented**\n",
    "- if you would like to return a value use the **return** key word\n",
    "- if you like you can mark the end of a function with the key word **pass** this must be used if your function is empty\n"
   ]
  },
  {
   "cell_type": "code",
   "execution_count": 10,
   "metadata": {},
   "outputs": [
    {
     "name": "stdout",
     "output_type": "stream",
     "text": [
      "Hallo World\n"
     ]
    }
   ],
   "source": [
    "# Simple function\n",
    "def my_simple_function():\n",
    "    print(\"Hallo World\")\n",
    "\n",
    "# will print \"Hello World\"    \n",
    "my_simple_function()"
   ]
  },
  {
   "cell_type": "code",
   "execution_count": 11,
   "metadata": {},
   "outputs": [
    {
     "name": "stdout",
     "output_type": "stream",
     "text": [
      "25.0\n"
     ]
    }
   ],
   "source": [
    "# Function with explicite parameters and return\n",
    "def triangle_surface(length, height):\n",
    "    a = length * height * 0.5\n",
    "    return a\n",
    "\n",
    "# will print 25.0\n",
    "print(triangle_surface(5, 10))"
   ]
  },
  {
   "cell_type": "code",
   "execution_count": 14,
   "metadata": {},
   "outputs": [
    {
     "name": "stdout",
     "output_type": "stream",
     "text": [
      "Hello World\n",
      "Hello Johannes\n"
     ]
    }
   ],
   "source": [
    "# function with default parameters\n",
    "def hello_world(name = \"World\"):\n",
    "    print(\"Hello \" + str(name))\n",
    "    # pass is optional but helps you to read the code block more easy\n",
    "    pass\n",
    "\n",
    "# will print \"Hello World\"\n",
    "hello_world()\n",
    "\n",
    "# will print \"Hello Johannes\"\n",
    "hello_world(\"Johannes\")"
   ]
  }
 ],
 "metadata": {
  "kernelspec": {
   "display_name": "Python 3",
   "language": "python",
   "name": "python3"
  },
  "language_info": {
   "codemirror_mode": {
    "name": "ipython",
    "version": 3
   },
   "file_extension": ".py",
   "mimetype": "text/x-python",
   "name": "python",
   "nbconvert_exporter": "python",
   "pygments_lexer": "ipython3",
   "version": "3.6.5"
  }
 },
 "nbformat": 4,
 "nbformat_minor": 2
}
