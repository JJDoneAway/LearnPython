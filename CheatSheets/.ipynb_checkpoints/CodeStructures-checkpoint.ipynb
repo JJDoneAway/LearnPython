{
 "cells": [
  {
   "cell_type": "markdown",
   "metadata": {},
   "source": [
    "# Ordinary Code"
   ]
  },
  {
   "cell_type": "markdown",
   "metadata": {},
   "source": [
    "## Simple code - simple scripting"
   ]
  },
  {
   "cell_type": "code",
   "execution_count": 63,
   "metadata": {},
   "outputs": [
    {
     "name": "stdout",
     "output_type": "stream",
     "text": [
      "8\n"
     ]
    }
   ],
   "source": [
    "a = 3\n",
    "b = 5\n",
    "c = a + b\n",
    "# will print 8\n",
    "print(c)"
   ]
  },
  {
   "cell_type": "markdown",
   "metadata": {},
   "source": [
    "## Exception Handling"
   ]
  },
  {
   "cell_type": "markdown",
   "metadata": {},
   "source": [
    "### uncaught exception are like this"
   ]
  },
  {
   "cell_type": "code",
   "execution_count": 64,
   "metadata": {},
   "outputs": [
    {
     "ename": "ZeroDivisionError",
     "evalue": "division by zero",
     "output_type": "error",
     "traceback": [
      "\u001b[1;31m---------------------------------------------------------------------------\u001b[0m",
      "\u001b[1;31mZeroDivisionError\u001b[0m                         Traceback (most recent call last)",
      "\u001b[1;32m<ipython-input-64-51f8442ebea1>\u001b[0m in \u001b[0;36m<module>\u001b[1;34m()\u001b[0m\n\u001b[0;32m      1\u001b[0m \u001b[0ma\u001b[0m \u001b[1;33m=\u001b[0m \u001b[1;36m1\u001b[0m\u001b[1;33m\u001b[0m\u001b[0m\n\u001b[0;32m      2\u001b[0m \u001b[0mb\u001b[0m \u001b[1;33m=\u001b[0m \u001b[1;36m0\u001b[0m\u001b[1;33m\u001b[0m\u001b[0m\n\u001b[1;32m----> 3\u001b[1;33m \u001b[0mc\u001b[0m \u001b[1;33m=\u001b[0m \u001b[0ma\u001b[0m \u001b[1;33m/\u001b[0m \u001b[0mb\u001b[0m\u001b[1;33m\u001b[0m\u001b[0m\n\u001b[0m",
      "\u001b[1;31mZeroDivisionError\u001b[0m: division by zero"
     ]
    }
   ],
   "source": [
    "a = 1\n",
    "b = 0\n",
    "c = a / b"
   ]
  },
  {
   "cell_type": "markdown",
   "metadata": {},
   "source": [
    "### catching exceptions"
   ]
  },
  {
   "cell_type": "code",
   "execution_count": 65,
   "metadata": {},
   "outputs": [
    {
     "name": "stdout",
     "output_type": "stream",
     "text": [
      "You try to devide by zero\n"
     ]
    }
   ],
   "source": [
    "try:\n",
    "    c = a / b\n",
    "except ZeroDivisionError:\n",
    "    print(\"You try to devide by zero\")"
   ]
  },
  {
   "cell_type": "markdown",
   "metadata": {},
   "source": [
    "## clean up with finally block"
   ]
  },
  {
   "cell_type": "code",
   "execution_count": 66,
   "metadata": {},
   "outputs": [
    {
     "name": "stdout",
     "output_type": "stream",
     "text": [
      "You try to devide by zero\n",
      "We clean up here\n",
      "None\n"
     ]
    }
   ],
   "source": [
    "try:\n",
    "    c = a / b\n",
    "    print(c) #will never be reached\n",
    "except ZeroDivisionError:\n",
    "    print(\"You try to devide by zero\")\n",
    "finally:\n",
    "    print(\"We clean up here\")\n",
    "    c = None\n",
    "    print(c)"
   ]
  },
  {
   "cell_type": "markdown",
   "metadata": {},
   "source": [
    "### create and throw own exceptions"
   ]
  },
  {
   "cell_type": "code",
   "execution_count": 68,
   "metadata": {},
   "outputs": [
    {
     "ename": "DontLikeMondaysException",
     "evalue": "I hate Mondays, but I love cookies!",
     "output_type": "error",
     "traceback": [
      "\u001b[1;31m---------------------------------------------------------------------------\u001b[0m",
      "\u001b[1;31mDontLikeMondaysException\u001b[0m                  Traceback (most recent call last)",
      "\u001b[1;32m<ipython-input-68-fa8918fed68c>\u001b[0m in \u001b[0;36m<module>\u001b[1;34m()\u001b[0m\n\u001b[0;32m      6\u001b[0m \u001b[0ma\u001b[0m \u001b[1;33m=\u001b[0m \u001b[1;34m\"Monday\"\u001b[0m\u001b[1;33m\u001b[0m\u001b[0m\n\u001b[0;32m      7\u001b[0m \u001b[1;32mif\u001b[0m \u001b[0ma\u001b[0m \u001b[1;32mis\u001b[0m \u001b[1;34m\"Monday\"\u001b[0m\u001b[1;33m:\u001b[0m\u001b[1;33m\u001b[0m\u001b[0m\n\u001b[1;32m----> 8\u001b[1;33m     \u001b[1;32mraise\u001b[0m \u001b[0mDontLikeMondaysException\u001b[0m\u001b[1;33m(\u001b[0m\u001b[1;34m\"I hate Mondays, but I love cookies!\"\u001b[0m\u001b[1;33m)\u001b[0m\u001b[1;33m\u001b[0m\u001b[0m\n\u001b[0m",
      "\u001b[1;31mDontLikeMondaysException\u001b[0m: I hate Mondays, but I love cookies!"
     ]
    }
   ],
   "source": [
    "#create yor own exception class\n",
    "class DontLikeMondaysException(Exception):\n",
    "    pass #you need the pass as we don't have any code in here\n",
    "\n",
    "#throw the exception\n",
    "a = \"Monday\"\n",
    "if a is \"Monday\":\n",
    "    raise DontLikeMondaysException(\"I hate Mondays, but I love cookies!\")"
   ]
  },
  {
   "cell_type": "markdown",
   "metadata": {},
   "source": [
    "# Functions\n",
    "\n",
    "\n",
    "**dev {function name} ([function parameters]):** \n",
    "\n",
    "    [code block line 1]\n",
    "    [code block line n]\n",
    "    [return | pass]"
   ]
  },
  {
   "cell_type": "markdown",
   "metadata": {},
   "source": [
    "## Simple function"
   ]
  },
  {
   "cell_type": "code",
   "execution_count": 69,
   "metadata": {},
   "outputs": [
    {
     "name": "stdout",
     "output_type": "stream",
     "text": [
      "Hallo World\n"
     ]
    }
   ],
   "source": [
    "def my_simple_function():\n",
    "    print(\"Hallo World\")\n",
    "\n",
    "# will print \"Hello World\"    \n",
    "my_simple_function()"
   ]
  },
  {
   "cell_type": "markdown",
   "metadata": {},
   "source": [
    "## Function with explicite parameters and return"
   ]
  },
  {
   "cell_type": "code",
   "execution_count": 70,
   "metadata": {},
   "outputs": [
    {
     "name": "stdout",
     "output_type": "stream",
     "text": [
      "25.0\n",
      "25.0\n",
      "25.0\n",
      "25.0\n"
     ]
    },
    {
     "ename": "TypeError",
     "evalue": "triangle_surface() got an unexpected keyword argument 'g'",
     "output_type": "error",
     "traceback": [
      "\u001b[1;31m---------------------------------------------------------------------------\u001b[0m",
      "\u001b[1;31mTypeError\u001b[0m                                 Traceback (most recent call last)",
      "\u001b[1;32m<ipython-input-70-e6f85ab9f297>\u001b[0m in \u001b[0;36m<module>\u001b[1;34m()\u001b[0m\n\u001b[0;32m     16\u001b[0m \u001b[1;31m# but the parameter names must fit ==> TypeError\u001b[0m\u001b[1;33m\u001b[0m\u001b[1;33m\u001b[0m\u001b[0m\n\u001b[0;32m     17\u001b[0m \u001b[0mdict\u001b[0m \u001b[1;33m=\u001b[0m \u001b[1;33m{\u001b[0m\u001b[1;34m\"g\"\u001b[0m \u001b[1;33m:\u001b[0m \u001b[1;36m5\u001b[0m\u001b[1;33m,\u001b[0m \u001b[1;34m\"h\"\u001b[0m \u001b[1;33m:\u001b[0m \u001b[1;36m10\u001b[0m\u001b[1;33m}\u001b[0m\u001b[1;33m\u001b[0m\u001b[0m\n\u001b[1;32m---> 18\u001b[1;33m \u001b[0mprint\u001b[0m\u001b[1;33m(\u001b[0m\u001b[0mtriangle_surface\u001b[0m\u001b[1;33m(\u001b[0m\u001b[1;33m**\u001b[0m\u001b[0mdict\u001b[0m\u001b[1;33m)\u001b[0m\u001b[1;33m)\u001b[0m\u001b[1;33m\u001b[0m\u001b[0m\n\u001b[0m",
      "\u001b[1;31mTypeError\u001b[0m: triangle_surface() got an unexpected keyword argument 'g'"
     ]
    }
   ],
   "source": [
    "def triangle_surface(length, height):\n",
    "    a = length * height * 0.5\n",
    "    return a\n",
    "\n",
    "# will print 25.0\n",
    "print(triangle_surface(5, 10))\n",
    "# you can use also lists with the *\n",
    "aList = [5,10]\n",
    "print(triangle_surface(*aList))\n",
    "# you can also use tuples with the *\n",
    "tuple = (5,10)\n",
    "print(triangle_surface(*tuple))\n",
    "# you can also use dictionaries with the **\n",
    "dict = {\"length\" : 5, \"height\" : 10}\n",
    "print(triangle_surface(**dict))\n",
    "# but the parameter names must fit ==> TypeError\n",
    "dict = {\"g\" : 5, \"h\" : 10}\n",
    "print(triangle_surface(**dict))"
   ]
  },
  {
   "cell_type": "markdown",
   "metadata": {},
   "source": [
    "## function with default parameters"
   ]
  },
  {
   "cell_type": "code",
   "execution_count": 71,
   "metadata": {},
   "outputs": [
    {
     "name": "stdout",
     "output_type": "stream",
     "text": [
      "Hello World\n",
      "Hello Johannes\n"
     ]
    }
   ],
   "source": [
    "def hello_world(name = \"World\"):\n",
    "    print(\"Hello \" + str(name))\n",
    "    # pass is optional but helps you to read the code block more easy\n",
    "    pass\n",
    "\n",
    "# will print \"Hello World\"\n",
    "hello_world()\n",
    "\n",
    "# will print \"Hello Johannes\"\n",
    "hello_world(\"Johannes\")"
   ]
  },
  {
   "cell_type": "markdown",
   "metadata": {},
   "source": [
    "## named function parameters"
   ]
  },
  {
   "cell_type": "code",
   "execution_count": 72,
   "metadata": {},
   "outputs": [
    {
     "name": "stdout",
     "output_type": "stream",
     "text": [
      "1 + 2 = 3 | Hallo\n",
      "3 + 4 = 7 | Johannes\n",
      "1 + 4 = 5 | Ben\n"
     ]
    }
   ],
   "source": [
    "def named_parameter_function(a = 1, b = 2, c = \"Hallo\"):\n",
    "    print(str(a) +  \" + \" + str(b) + \" = \" + str(a+b) + \" | \" + c)\n",
    "    pass\n",
    "\n",
    "# will print \"1 + 2 = 3 | Hallo\"\n",
    "named_parameter_function()\n",
    "# will print \"3 + 4 = 7 | Johannes\"\n",
    "named_parameter_function(3, 4, \"Johannes\")\n",
    "# will print \"1 + 6 = 7 | Ben\"\n",
    "named_parameter_function(b = 4, c = \"Ben\")"
   ]
  },
  {
   "cell_type": "markdown",
   "metadata": {},
   "source": [
    "## variable function parameters"
   ]
  },
  {
   "cell_type": "code",
   "execution_count": 73,
   "metadata": {},
   "outputs": [
    {
     "name": "stdout",
     "output_type": "stream",
     "text": [
      "6\n",
      "11\n",
      "6\n",
      "6\n"
     ]
    }
   ],
   "source": [
    "def variable_function_parameters(*params):\n",
    "    result = 0\n",
    "    for p in params:\n",
    "        result += p\n",
    "        pass\n",
    "    print(result)\n",
    "    \n",
    "# will print 6\n",
    "variable_function_parameters(1,2,3)\n",
    "# will print 11\n",
    "variable_function_parameters(11)\n",
    "# you can also use lists with the *\n",
    "aList = [1,2,3]\n",
    "variable_function_parameters(*aList)\n",
    "# you can also use tuples with the *\n",
    "tuple = (1,2,3)\n",
    "variable_function_parameters(*tuple)"
   ]
  },
  {
   "cell_type": "markdown",
   "metadata": {},
   "source": [
    "## Lambda - Anonymous Functions"
   ]
  },
  {
   "cell_type": "markdown",
   "metadata": {},
   "source": [
    "### define a anonimous function"
   ]
  },
  {
   "cell_type": "code",
   "execution_count": 74,
   "metadata": {},
   "outputs": [
    {
     "name": "stdout",
     "output_type": "stream",
     "text": [
      "4\n"
     ]
    }
   ],
   "source": [
    "f = lambda x : x**2\n",
    "# call it\n",
    "print(f(2))"
   ]
  }
 ],
 "metadata": {
  "kernelspec": {
   "display_name": "Python 3",
   "language": "python",
   "name": "python3"
  },
  "language_info": {
   "codemirror_mode": {
    "name": "ipython",
    "version": 3
   },
   "file_extension": ".py",
   "mimetype": "text/x-python",
   "name": "python",
   "nbconvert_exporter": "python",
   "pygments_lexer": "ipython3",
   "version": "3.6.5"
  }
 },
 "nbformat": 4,
 "nbformat_minor": 2
}
