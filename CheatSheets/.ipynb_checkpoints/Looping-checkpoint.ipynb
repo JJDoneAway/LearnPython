{
 "cells": [
  {
   "cell_type": "markdown",
   "metadata": {},
   "source": [
    "Draft"
   ]
  },
  {
   "cell_type": "markdown",
   "metadata": {},
   "source": [
    "## looping a collection"
   ]
  },
  {
   "cell_type": "code",
   "execution_count": 6,
   "metadata": {},
   "outputs": [
    {
     "name": "stdout",
     "output_type": "stream",
     "text": [
      "1\n",
      "2\n",
      "Hallo\n",
      "Welt\n",
      "Ich bin so allein\n"
     ]
    }
   ],
   "source": [
    "my_tuple = (1,2,'Hallo','Welt')\n",
    "for i in my_tuple:\n",
    "    print(i)\n",
    "    \n",
    "#mind if you need a tuple with just one element there must be a comma after the element\n",
    "my_single_tuple = ('Ich bin so allein',) # not (1)\n",
    "for i in my_single_tuple:\n",
    "    print(i)"
   ]
  }
 ],
 "metadata": {
  "kernelspec": {
   "display_name": "Python 3",
   "language": "python",
   "name": "python3"
  },
  "language_info": {
   "codemirror_mode": {
    "name": "ipython",
    "version": 3
   },
   "file_extension": ".py",
   "mimetype": "text/x-python",
   "name": "python",
   "nbconvert_exporter": "python",
   "pygments_lexer": "ipython3",
   "version": "3.6.5"
  }
 },
 "nbformat": 4,
 "nbformat_minor": 2
}
