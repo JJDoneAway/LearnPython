{
 "cells": [
  {
   "cell_type": "markdown",
   "metadata": {},
   "source": [
    "# Functions\n",
    "\n",
    "\n",
    "**dev {function name} ([function parameters]):** \n",
    "\n",
    "    [code block line 1]\n",
    "    [code block line n]\n",
    "    [return | pass]"
   ]
  },
  {
   "cell_type": "markdown",
   "metadata": {},
   "source": [
    "## Simple function"
   ]
  },
  {
   "cell_type": "code",
   "execution_count": 69,
   "metadata": {},
   "outputs": [
    {
     "name": "stdout",
     "output_type": "stream",
     "text": [
      "Hallo World\n"
     ]
    }
   ],
   "source": [
    "def my_simple_function():\n",
    "    print(\"Hallo World\")\n",
    "\n",
    "# will print \"Hello World\"    \n",
    "my_simple_function()"
   ]
  },
  {
   "cell_type": "markdown",
   "metadata": {},
   "source": [
    "## Function with explicite parameters and return"
   ]
  },
  {
   "cell_type": "code",
   "execution_count": 70,
   "metadata": {},
   "outputs": [
    {
     "name": "stdout",
     "output_type": "stream",
     "text": [
      "25.0\n",
      "25.0\n",
      "25.0\n",
      "25.0\n"
     ]
    },
    {
     "ename": "TypeError",
     "evalue": "triangle_surface() got an unexpected keyword argument 'g'",
     "output_type": "error",
     "traceback": [
      "\u001b[1;31m---------------------------------------------------------------------------\u001b[0m",
      "\u001b[1;31mTypeError\u001b[0m                                 Traceback (most recent call last)",
      "\u001b[1;32m<ipython-input-70-e6f85ab9f297>\u001b[0m in \u001b[0;36m<module>\u001b[1;34m()\u001b[0m\n\u001b[0;32m     16\u001b[0m \u001b[1;31m# but the parameter names must fit ==> TypeError\u001b[0m\u001b[1;33m\u001b[0m\u001b[1;33m\u001b[0m\u001b[0m\n\u001b[0;32m     17\u001b[0m \u001b[0mdict\u001b[0m \u001b[1;33m=\u001b[0m \u001b[1;33m{\u001b[0m\u001b[1;34m\"g\"\u001b[0m \u001b[1;33m:\u001b[0m \u001b[1;36m5\u001b[0m\u001b[1;33m,\u001b[0m \u001b[1;34m\"h\"\u001b[0m \u001b[1;33m:\u001b[0m \u001b[1;36m10\u001b[0m\u001b[1;33m}\u001b[0m\u001b[1;33m\u001b[0m\u001b[0m\n\u001b[1;32m---> 18\u001b[1;33m \u001b[0mprint\u001b[0m\u001b[1;33m(\u001b[0m\u001b[0mtriangle_surface\u001b[0m\u001b[1;33m(\u001b[0m\u001b[1;33m**\u001b[0m\u001b[0mdict\u001b[0m\u001b[1;33m)\u001b[0m\u001b[1;33m)\u001b[0m\u001b[1;33m\u001b[0m\u001b[0m\n\u001b[0m",
      "\u001b[1;31mTypeError\u001b[0m: triangle_surface() got an unexpected keyword argument 'g'"
     ]
    }
   ],
   "source": [
    "def triangle_surface(length, height):\n",
    "    a = length * height * 0.5\n",
    "    return a\n",
    "\n",
    "# will print 25.0\n",
    "print(triangle_surface(5, 10))\n",
    "# you can use also lists with the *\n",
    "aList = [5,10]\n",
    "print(triangle_surface(*aList))\n",
    "# you can also use tuples with the *\n",
    "tuple = (5,10)\n",
    "print(triangle_surface(*tuple))\n",
    "# you can also use dictionaries with the **\n",
    "dict = {\"length\" : 5, \"height\" : 10}\n",
    "print(triangle_surface(**dict))\n",
    "# but the parameter names must fit ==> TypeError\n",
    "dict = {\"g\" : 5, \"h\" : 10}\n",
    "print(triangle_surface(**dict))"
   ]
  },
  {
   "cell_type": "markdown",
   "metadata": {},
   "source": [
    "## Function with default parameters"
   ]
  },
  {
   "cell_type": "code",
   "execution_count": 71,
   "metadata": {},
   "outputs": [
    {
     "name": "stdout",
     "output_type": "stream",
     "text": [
      "Hello World\n",
      "Hello Johannes\n"
     ]
    }
   ],
   "source": [
    "def hello_world(name = \"World\"):\n",
    "    print(\"Hello \" + str(name))\n",
    "    # pass is optional but helps you to read the code block more easy\n",
    "    pass\n",
    "\n",
    "# will print \"Hello World\"\n",
    "hello_world()\n",
    "\n",
    "# will print \"Hello Johannes\"\n",
    "hello_world(\"Johannes\")"
   ]
  },
  {
   "cell_type": "markdown",
   "metadata": {},
   "source": [
    "## Named function parameters"
   ]
  },
  {
   "cell_type": "code",
   "execution_count": 72,
   "metadata": {},
   "outputs": [
    {
     "name": "stdout",
     "output_type": "stream",
     "text": [
      "1 + 2 = 3 | Hallo\n",
      "3 + 4 = 7 | Johannes\n",
      "1 + 4 = 5 | Ben\n"
     ]
    }
   ],
   "source": [
    "def named_parameter_function(a = 1, b = 2, c = \"Hallo\"):\n",
    "    print(str(a) +  \" + \" + str(b) + \" = \" + str(a+b) + \" | \" + c)\n",
    "    pass\n",
    "\n",
    "# will print \"1 + 2 = 3 | Hallo\"\n",
    "named_parameter_function()\n",
    "# will print \"3 + 4 = 7 | Johannes\"\n",
    "named_parameter_function(3, 4, \"Johannes\")\n",
    "# will print \"1 + 6 = 7 | Ben\"\n",
    "named_parameter_function(b = 4, c = \"Ben\")"
   ]
  },
  {
   "cell_type": "markdown",
   "metadata": {},
   "source": [
    "## Variable function parameters"
   ]
  },
  {
   "cell_type": "code",
   "execution_count": 73,
   "metadata": {},
   "outputs": [
    {
     "name": "stdout",
     "output_type": "stream",
     "text": [
      "6\n",
      "11\n",
      "6\n",
      "6\n"
     ]
    }
   ],
   "source": [
    "def variable_function_parameters(*params):\n",
    "    result = 0\n",
    "    for p in params:\n",
    "        result += p\n",
    "        pass\n",
    "    print(result)\n",
    "    \n",
    "# will print 6\n",
    "variable_function_parameters(1,2,3)\n",
    "# will print 11\n",
    "variable_function_parameters(11)\n",
    "# you can also use lists with the *\n",
    "aList = [1,2,3]\n",
    "variable_function_parameters(*aList)\n",
    "# you can also use tuples with the *\n",
    "tuple = (1,2,3)\n",
    "variable_function_parameters(*tuple)"
   ]
  },
  {
   "cell_type": "markdown",
   "metadata": {},
   "source": [
    "## Lambda - Anonymous Functions"
   ]
  },
  {
   "cell_type": "markdown",
   "metadata": {},
   "source": [
    "### Define a anonimous function"
   ]
  },
  {
   "cell_type": "code",
   "execution_count": 74,
   "metadata": {},
   "outputs": [
    {
     "name": "stdout",
     "output_type": "stream",
     "text": [
      "4\n"
     ]
    }
   ],
   "source": [
    "f = lambda x : x**2\n",
    "# call it\n",
    "print(f(2))"
   ]
  },
  {
   "cell_type": "markdown",
   "metadata": {},
   "source": [
    "## Decorator Pattern\n",
    "You can use the decorator pattern if you would like to wrap a function with another one. In the example we will add an cahcing aspect."
   ]
  },
  {
   "cell_type": "code",
   "execution_count": 44,
   "metadata": {},
   "outputs": [
    {
     "name": "stdout",
     "output_type": "stream",
     "text": [
      "function 'cache' is called with the function: <function calculate_somthing at 0x0000028B1965F598>\n",
      "The result for parameter (2, 2) will be cached.\n",
      "function 'calculate_somthing' is called with the parameters: 2 and 2\n",
      "6\n",
      "Result for parameter (2, 2) is already cached so we use this value.\n",
      "6\n",
      "The result for parameter (3, 2) will be cached.\n",
      "function 'calculate_somthing' is called with the parameters: 3 and 2\n",
      "11\n"
     ]
    }
   ],
   "source": [
    "def cache(function):\n",
    "    print(\"function 'cache' is called with the function: \" + str(function))\n",
    "    cache = {}\n",
    "    # now we define the proxy function. We use the * to be prepared for multiple parameters\n",
    "    def proxy(*p):\n",
    "        if p in cache:\n",
    "            print(\"Result for parameter \" + str(p) + \" is already cached so we use this value.\")\n",
    "            return cache[p]        \n",
    "        print(\"The result for parameter \" + str(p) + \" will be cached.\")\n",
    "        result = function(*p)\n",
    "        cache[p] = result\n",
    "        return result\n",
    "    return proxy\n",
    "\n",
    "# Imagine that this is a function which is doing a pretty time-consuming calculation\n",
    "# you enable the decorator for your function with the '@' and the name of the decorator function\n",
    "@cache\n",
    "def calculate_somthing(a, b):\n",
    "    print(\"function 'calculate_somthing' is called with the parameters: \" + str(a) + \" and \" + str(b))\n",
    "    return a * a + b\n",
    "\n",
    "\n",
    "    \n",
    "print(calculate_somthing(2,2))\n",
    "print(calculate_somthing(2,2))\n",
    "print(calculate_somthing(3,2))\n"
   ]
  },
  {
   "cell_type": "code",
   "execution_count": 47,
   "metadata": {},
   "outputs": [
    {
     "name": "stdout",
     "output_type": "stream",
     "text": [
      "function 'cache' is called with the function: <function f at 0x0000028B1965FA60>\n",
      "The result for parameter (2,) will be cached.\n",
      "4\n",
      "The result for parameter (4,) will be cached.\n",
      "16\n",
      "Result for parameter (2,) is already cached so we use this value.\n",
      "4\n"
     ]
    }
   ],
   "source": [
    "#Lets add a different method for the same aspect\n",
    "@cache\n",
    "def f(x):\n",
    "    return x**2\n",
    "\n",
    "print(f(2))\n",
    "print(f(4))\n",
    "print(f(2))"
   ]
  }
 ],
 "metadata": {
  "kernelspec": {
   "display_name": "Python 3",
   "language": "python",
   "name": "python3"
  },
  "language_info": {
   "codemirror_mode": {
    "name": "ipython",
    "version": 3
   },
   "file_extension": ".py",
   "mimetype": "text/x-python",
   "name": "python",
   "nbconvert_exporter": "python",
   "pygments_lexer": "ipython3",
   "version": "3.6.5"
  }
 },
 "nbformat": 4,
 "nbformat_minor": 2
}
