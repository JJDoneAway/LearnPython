{
 "cells": [
  {
   "cell_type": "markdown",
   "metadata": {},
   "source": [
    "# Object-oriented Syntax"
   ]
  },
  {
   "cell_type": "markdown",
   "metadata": {},
   "source": [
    "## Simple classes"
   ]
  },
  {
   "cell_type": "code",
   "execution_count": 17,
   "metadata": {},
   "outputs": [],
   "source": [
    "class Triangle:\n",
    "    # the constructor is always like this\n",
    "    # methods of classes (non static ones) have the self reference\n",
    "    def __init__(self, width, height, color):\n",
    "        ## Two underscores (__) mark private members\n",
    "        self.__height = height\n",
    "        self.__width = width\n",
    "        self.color = color\n",
    "        self.__calculateSurface()\n",
    "        print(\"Instance is created\")\n",
    "        \n",
    "    # private methodes have two underscores\n",
    "    def __calculateSurface(self):\n",
    "        self.__surf = self.__width * self.__height * 0.5\n",
    "    \n",
    "    \n",
    "    # normal member methodes have self as first paramaeter\n",
    "    def getHeight(self):\n",
    "        return self.__height\n",
    "    \n",
    "    def getSurface(self):\n",
    "        return self.__surf\n"
   ]
  },
  {
   "cell_type": "markdown",
   "metadata": {},
   "source": [
    "## Create an instance"
   ]
  },
  {
   "cell_type": "code",
   "execution_count": 18,
   "metadata": {},
   "outputs": [
    {
     "name": "stdout",
     "output_type": "stream",
     "text": [
      "Instance is created\n"
     ]
    }
   ],
   "source": [
    "# create an instance    \n",
    "a = Triangle(5, 10, \"red\")"
   ]
  },
  {
   "cell_type": "markdown",
   "metadata": {},
   "source": [
    "## call public class members"
   ]
  },
  {
   "cell_type": "code",
   "execution_count": 19,
   "metadata": {},
   "outputs": [
    {
     "name": "stdout",
     "output_type": "stream",
     "text": [
      "10\n",
      "25.0\n",
      "red\n"
     ]
    }
   ],
   "source": [
    "# call methodes\n",
    "print(a.getHeight())\n",
    "print(a.getSurface())\n",
    "# call public members\n",
    "print(a.color)"
   ]
  },
  {
   "cell_type": "markdown",
   "metadata": {},
   "source": [
    "## call private class members will hurt"
   ]
  },
  {
   "cell_type": "code",
   "execution_count": 20,
   "metadata": {},
   "outputs": [
    {
     "ename": "AttributeError",
     "evalue": "'Triangle' object has no attribute '__height'",
     "output_type": "error",
     "traceback": [
      "\u001b[1;31m---------------------------------------------------------------------------\u001b[0m",
      "\u001b[1;31mAttributeError\u001b[0m                            Traceback (most recent call last)",
      "\u001b[1;32m<ipython-input-20-8ca43b9eae0a>\u001b[0m in \u001b[0;36m<module>\u001b[1;34m()\u001b[0m\n\u001b[0;32m      1\u001b[0m \u001b[1;31m# it is not possible to call private members\u001b[0m\u001b[1;33m\u001b[0m\u001b[1;33m\u001b[0m\u001b[0m\n\u001b[1;32m----> 2\u001b[1;33m \u001b[0mprint\u001b[0m\u001b[1;33m(\u001b[0m\u001b[0ma\u001b[0m\u001b[1;33m.\u001b[0m\u001b[0m__height\u001b[0m\u001b[1;33m)\u001b[0m\u001b[1;33m\u001b[0m\u001b[0m\n\u001b[0m",
      "\u001b[1;31mAttributeError\u001b[0m: 'Triangle' object has no attribute '__height'"
     ]
    }
   ],
   "source": [
    "# it is not possible to call private members\n",
    "print(a.__height)"
   ]
  },
  {
   "cell_type": "code",
   "execution_count": 21,
   "metadata": {},
   "outputs": [
    {
     "ename": "AttributeError",
     "evalue": "'Triangle' object has no attribute '__calculateSurface'",
     "output_type": "error",
     "traceback": [
      "\u001b[1;31m---------------------------------------------------------------------------\u001b[0m",
      "\u001b[1;31mAttributeError\u001b[0m                            Traceback (most recent call last)",
      "\u001b[1;32m<ipython-input-21-8a3d55139ae9>\u001b[0m in \u001b[0;36m<module>\u001b[1;34m()\u001b[0m\n\u001b[0;32m      1\u001b[0m \u001b[1;31m# it is not possible to call private methodes\u001b[0m\u001b[1;33m\u001b[0m\u001b[1;33m\u001b[0m\u001b[0m\n\u001b[1;32m----> 2\u001b[1;33m \u001b[0mprint\u001b[0m\u001b[1;33m(\u001b[0m\u001b[0ma\u001b[0m\u001b[1;33m.\u001b[0m\u001b[0m__calculateSurface\u001b[0m\u001b[1;33m(\u001b[0m\u001b[1;33m)\u001b[0m\u001b[1;33m)\u001b[0m\u001b[1;33m\u001b[0m\u001b[0m\n\u001b[0m",
      "\u001b[1;31mAttributeError\u001b[0m: 'Triangle' object has no attribute '__calculateSurface'"
     ]
    }
   ],
   "source": [
    "# it is not possible to call private methodes\n",
    "print(a.__calculateSurface())"
   ]
  },
  {
   "cell_type": "markdown",
   "metadata": {},
   "source": [
    "## Inherit"
   ]
  },
  {
   "cell_type": "code",
   "execution_count": 35,
   "metadata": {},
   "outputs": [],
   "source": [
    "# define a super class\n",
    "class Car:\n",
    "    def __init__(self, brand, name):\n",
    "        self.brand = brand\n",
    "        self.name = name\n",
    "        pass\n",
    "        \n",
    "    def isVW(self):\n",
    "        return self.brand == \"VW\"\n",
    "    pass\n",
    "    \n",
    "# inherit from Car\n",
    "class SUV(Car):\n",
    "    def __init__(self, brand, name, doors):\n",
    "        # call constructor of super class\n",
    "        super().__init__(brand,name)\n",
    "        self.doors = doors\n",
    "\n",
    "    def getNumberOfDoors(self):\n",
    "        return self.doors\n",
    "        \n",
    "    pass"
   ]
  },
  {
   "cell_type": "code",
   "execution_count": 36,
   "metadata": {},
   "outputs": [
    {
     "name": "stdout",
     "output_type": "stream",
     "text": [
      "True\n",
      "5\n"
     ]
    }
   ],
   "source": [
    "# get a new instance \n",
    "tiguan = SUV(\"VW\", \"Tiguan\",5) \n",
    "print(tiguan.isVW())\n",
    "print(tiguan.getNumberOfDoors())"
   ]
  },
  {
   "cell_type": "markdown",
   "metadata": {},
   "source": [
    "## Special methodes\n",
    "\n",
    "there are some special methodes which can be overwritten"
   ]
  },
  {
   "cell_type": "code",
   "execution_count": 37,
   "metadata": {},
   "outputs": [
    {
     "name": "stdout",
     "output_type": "stream",
     "text": [
      "<__main__.SUV object at 0x000002A26FCA2828>\n"
     ]
    }
   ],
   "source": [
    "# if you call print on \"normal\" obects you get something like this\n",
    "print(tiguan)"
   ]
  },
  {
   "cell_type": "code",
   "execution_count": 42,
   "metadata": {},
   "outputs": [],
   "source": [
    "class Person:\n",
    "    def __init__(self, first_name, last_name, age):\n",
    "        self.first_name = first_name\n",
    "        self.last_name = last_name\n",
    "        self.age = age\n",
    "        pass\n",
    "     \n",
    "    # the string representation can be overwritten\n",
    "    def __str__(self):\n",
    "        return \"This is a Person. The name is \" + self.first_name + \" \" + self.last_name + \". The age is \" + str(self.age)\n",
    "    "
   ]
  },
  {
   "cell_type": "code",
   "execution_count": 43,
   "metadata": {},
   "outputs": [
    {
     "name": "stdout",
     "output_type": "stream",
     "text": [
      "This is a Person. The name is Johannes Höhne. The age is 46\n"
     ]
    }
   ],
   "source": [
    "me = Person(\"Johannes\", \"Höhne\", 46)\n",
    "print(me)"
   ]
  },
  {
   "cell_type": "markdown",
   "metadata": {},
   "source": [
    "for more detailes please refer to the documentation [https://docs.python.org/3/reference/datamodel.html](https://docs.python.org/3/reference/datamodel.html)"
   ]
  },
  {
   "cell_type": "markdown",
   "metadata": {},
   "source": [
    "## Decorator Pattern\n",
    "You can use the decorator pattern if you would like to wrap a function with another one. In the example we will add an cahcing aspect."
   ]
  },
  {
   "cell_type": "code",
   "execution_count": 44,
   "metadata": {},
   "outputs": [
    {
     "name": "stdout",
     "output_type": "stream",
     "text": [
      "function 'cache' is called with the function: <function calculate_somthing at 0x0000028B1965F598>\n",
      "The result for parameter (2, 2) will be cached.\n",
      "function 'calculate_somthing' is called with the parameters: 2 and 2\n",
      "6\n",
      "Result for parameter (2, 2) is already cached so we use this value.\n",
      "6\n",
      "The result for parameter (3, 2) will be cached.\n",
      "function 'calculate_somthing' is called with the parameters: 3 and 2\n",
      "11\n"
     ]
    }
   ],
   "source": [
    "def cache(function):\n",
    "    print(\"function 'cache' is called with the function: \" + str(function))\n",
    "    cache = {}\n",
    "    # now we define the proxy function. We use the * to be prepared for multiple parameters\n",
    "    def proxy(*p):\n",
    "        if p in cache:\n",
    "            print(\"Result for parameter \" + str(p) + \" is already cached so we use this value.\")\n",
    "            return cache[p]        \n",
    "        print(\"The result for parameter \" + str(p) + \" will be cached.\")\n",
    "        result = function(*p)\n",
    "        cache[p] = result\n",
    "        return result\n",
    "    return proxy\n",
    "\n",
    "# Imagine that this is a function which is doing a pretty time-consuming calculation\n",
    "# you enable the decorator for your function with the '@' and the name of the decorator function\n",
    "@cache\n",
    "def calculate_somthing(a, b):\n",
    "    print(\"function 'calculate_somthing' is called with the parameters: \" + str(a) + \" and \" + str(b))\n",
    "    return a * a + b\n",
    "\n",
    "\n",
    "    \n",
    "print(calculate_somthing(2,2))\n",
    "print(calculate_somthing(2,2))\n",
    "print(calculate_somthing(3,2))\n"
   ]
  },
  {
   "cell_type": "code",
   "execution_count": 47,
   "metadata": {},
   "outputs": [
    {
     "name": "stdout",
     "output_type": "stream",
     "text": [
      "function 'cache' is called with the function: <function f at 0x0000028B1965FA60>\n",
      "The result for parameter (2,) will be cached.\n",
      "4\n",
      "The result for parameter (4,) will be cached.\n",
      "16\n",
      "Result for parameter (2,) is already cached so we use this value.\n",
      "4\n"
     ]
    }
   ],
   "source": [
    "#Lets add a different method for the same aspect\n",
    "@cache\n",
    "def f(x):\n",
    "    return x**2\n",
    "\n",
    "print(f(2))\n",
    "print(f(4))\n",
    "print(f(2))"
   ]
  }
 ],
 "metadata": {
  "kernelspec": {
   "display_name": "Python 3",
   "language": "python",
   "name": "python3"
  },
  "language_info": {
   "codemirror_mode": {
    "name": "ipython",
    "version": 3
   },
   "file_extension": ".py",
   "mimetype": "text/x-python",
   "name": "python",
   "nbconvert_exporter": "python",
   "pygments_lexer": "ipython3",
   "version": "3.6.5"
  }
 },
 "nbformat": 4,
 "nbformat_minor": 2
}
