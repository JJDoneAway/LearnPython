{
 "cells": [
  {
   "cell_type": "markdown",
   "metadata": {},
   "source": [
    "## Simple classes"
   ]
  },
  {
   "cell_type": "code",
   "execution_count": 17,
   "metadata": {},
   "outputs": [],
   "source": [
    "class Triangle:\n",
    "    # the constructor is always like this\n",
    "    # methods of classes (non static ones) have the self reference\n",
    "    def __init__(self, width, height, color):\n",
    "        ## Two underscores (__) mark private members\n",
    "        self.__height = height\n",
    "        self.__width = width\n",
    "        self.color = color\n",
    "        self.__calculateSurface()\n",
    "        print(\"Instance is created\")\n",
    "        \n",
    "    # private methodes have two underscores\n",
    "    def __calculateSurface(self):\n",
    "        self.__surf = self.__width * self.__height * 0.5\n",
    "    \n",
    "    \n",
    "    # normal member methodes have self as first paramaeter\n",
    "    def getHeight(self):\n",
    "        return self.__height\n",
    "    \n",
    "    def getSurface(self):\n",
    "        return self.__surf\n"
   ]
  },
  {
   "cell_type": "markdown",
   "metadata": {},
   "source": [
    "## Create an instance"
   ]
  },
  {
   "cell_type": "code",
   "execution_count": 18,
   "metadata": {},
   "outputs": [
    {
     "name": "stdout",
     "output_type": "stream",
     "text": [
      "Instance is created\n"
     ]
    }
   ],
   "source": [
    "# create an instance    \n",
    "a = Triangle(5, 10, \"red\")"
   ]
  },
  {
   "cell_type": "markdown",
   "metadata": {},
   "source": [
    "## call public class members"
   ]
  },
  {
   "cell_type": "code",
   "execution_count": 19,
   "metadata": {},
   "outputs": [
    {
     "name": "stdout",
     "output_type": "stream",
     "text": [
      "10\n",
      "25.0\n",
      "red\n"
     ]
    }
   ],
   "source": [
    "# call methodes\n",
    "print(a.getHeight())\n",
    "print(a.getSurface())\n",
    "# call public members\n",
    "print(a.color)"
   ]
  },
  {
   "cell_type": "markdown",
   "metadata": {},
   "source": [
    "## call private class members will hurt"
   ]
  },
  {
   "cell_type": "code",
   "execution_count": 20,
   "metadata": {},
   "outputs": [
    {
     "ename": "AttributeError",
     "evalue": "'Triangle' object has no attribute '__height'",
     "output_type": "error",
     "traceback": [
      "\u001b[1;31m---------------------------------------------------------------------------\u001b[0m",
      "\u001b[1;31mAttributeError\u001b[0m                            Traceback (most recent call last)",
      "\u001b[1;32m<ipython-input-20-8ca43b9eae0a>\u001b[0m in \u001b[0;36m<module>\u001b[1;34m()\u001b[0m\n\u001b[0;32m      1\u001b[0m \u001b[1;31m# it is not possible to call private members\u001b[0m\u001b[1;33m\u001b[0m\u001b[1;33m\u001b[0m\u001b[0m\n\u001b[1;32m----> 2\u001b[1;33m \u001b[0mprint\u001b[0m\u001b[1;33m(\u001b[0m\u001b[0ma\u001b[0m\u001b[1;33m.\u001b[0m\u001b[0m__height\u001b[0m\u001b[1;33m)\u001b[0m\u001b[1;33m\u001b[0m\u001b[0m\n\u001b[0m",
      "\u001b[1;31mAttributeError\u001b[0m: 'Triangle' object has no attribute '__height'"
     ]
    }
   ],
   "source": [
    "# it is not possible to call private members\n",
    "print(a.__height)"
   ]
  },
  {
   "cell_type": "code",
   "execution_count": 21,
   "metadata": {},
   "outputs": [
    {
     "ename": "AttributeError",
     "evalue": "'Triangle' object has no attribute '__calculateSurface'",
     "output_type": "error",
     "traceback": [
      "\u001b[1;31m---------------------------------------------------------------------------\u001b[0m",
      "\u001b[1;31mAttributeError\u001b[0m                            Traceback (most recent call last)",
      "\u001b[1;32m<ipython-input-21-8a3d55139ae9>\u001b[0m in \u001b[0;36m<module>\u001b[1;34m()\u001b[0m\n\u001b[0;32m      1\u001b[0m \u001b[1;31m# it is not possible to call private methodes\u001b[0m\u001b[1;33m\u001b[0m\u001b[1;33m\u001b[0m\u001b[0m\n\u001b[1;32m----> 2\u001b[1;33m \u001b[0mprint\u001b[0m\u001b[1;33m(\u001b[0m\u001b[0ma\u001b[0m\u001b[1;33m.\u001b[0m\u001b[0m__calculateSurface\u001b[0m\u001b[1;33m(\u001b[0m\u001b[1;33m)\u001b[0m\u001b[1;33m)\u001b[0m\u001b[1;33m\u001b[0m\u001b[0m\n\u001b[0m",
      "\u001b[1;31mAttributeError\u001b[0m: 'Triangle' object has no attribute '__calculateSurface'"
     ]
    }
   ],
   "source": [
    "# it is not possible to call private methodes\n",
    "print(a.__calculateSurface())"
   ]
  },
  {
   "cell_type": "markdown",
   "metadata": {},
   "source": [
    "## Inherit"
   ]
  },
  {
   "cell_type": "code",
   "execution_count": 35,
   "metadata": {},
   "outputs": [],
   "source": [
    "# define a super class\n",
    "class Car:\n",
    "    def __init__(self, brand, name):\n",
    "        self.brand = brand\n",
    "        self.name = name\n",
    "        pass\n",
    "        \n",
    "    def isVW(self):\n",
    "        return self.brand == \"VW\"\n",
    "    pass\n",
    "    \n",
    "# inherit from Car\n",
    "class SUV(Car):\n",
    "    def __init__(self, brand, name, doors):\n",
    "        # call constructor of super class\n",
    "        super().__init__(brand,name)\n",
    "        self.doors = doors\n",
    "\n",
    "    def getNumberOfDoors(self):\n",
    "        return self.doors\n",
    "        \n",
    "    pass"
   ]
  },
  {
   "cell_type": "code",
   "execution_count": 36,
   "metadata": {},
   "outputs": [
    {
     "name": "stdout",
     "output_type": "stream",
     "text": [
      "True\n",
      "5\n"
     ]
    }
   ],
   "source": [
    "# get a new instance \n",
    "tiguan = SUV(\"VW\", \"Tiguan\",5) \n",
    "print(tiguan.isVW())\n",
    "print(tiguan.getNumberOfDoors())"
   ]
  },
  {
   "cell_type": "markdown",
   "metadata": {},
   "source": [
    "## Special methodes\n",
    "\n",
    "there are some special methodes which can be overwritten"
   ]
  },
  {
   "cell_type": "code",
   "execution_count": 37,
   "metadata": {},
   "outputs": [
    {
     "name": "stdout",
     "output_type": "stream",
     "text": [
      "<__main__.SUV object at 0x000002A26FCA2828>\n"
     ]
    }
   ],
   "source": [
    "# if you call print on \"normal\" obects you get something like this\n",
    "print(tiguan)"
   ]
  },
  {
   "cell_type": "code",
   "execution_count": 42,
   "metadata": {},
   "outputs": [],
   "source": [
    "class Person:\n",
    "    def __init__(self, first_name, last_name, age):\n",
    "        self.first_name = first_name\n",
    "        self.last_name = last_name\n",
    "        self.age = age\n",
    "        pass\n",
    "     \n",
    "    # the string representation can be overwritten\n",
    "    def __str__(self):\n",
    "        return \"This is a Person. The name is \" + self.first_name + \" \" + self.last_name + \". The age is \" + str(self.age)\n",
    "    "
   ]
  },
  {
   "cell_type": "code",
   "execution_count": 43,
   "metadata": {},
   "outputs": [
    {
     "name": "stdout",
     "output_type": "stream",
     "text": [
      "This is a Person. The name is Johannes Höhne. The age is 46\n"
     ]
    }
   ],
   "source": [
    "me = Person(\"Johannes\", \"Höhne\", 46)\n",
    "print(me)"
   ]
  },
  {
   "cell_type": "markdown",
   "metadata": {},
   "source": [
    "For more detailes please refer to the documentation [https://docs.python.org/3/reference/datamodel.html](https://docs.python.org/3/reference/datamodel.html)\n",
    "Please mind that you have the possibility to overwrite all simple operators lik + and - with this __ functions"
   ]
  }
 ],
 "metadata": {
  "kernelspec": {
   "display_name": "Python 3",
   "language": "python",
   "name": "python3"
  },
  "language_info": {
   "codemirror_mode": {
    "name": "ipython",
    "version": 3
   },
   "file_extension": ".py",
   "mimetype": "text/x-python",
   "name": "python",
   "nbconvert_exporter": "python",
   "pygments_lexer": "ipython3",
   "version": "3.6.5"
  }
 },
 "nbformat": 4,
 "nbformat_minor": 2
}
