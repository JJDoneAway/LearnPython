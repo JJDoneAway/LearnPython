{
 "cells": [
  {
   "cell_type": "markdown",
   "metadata": {},
   "source": [
    "# Creating and manipulating tensors\n",
    "\n",
    "> Tensors are multidimensional arrays. E.g. scalar ==> 0D , vector ==> 1D, matrix ==> 2D, tensor ==> nD\n",
    "\n",
    "- API: https://docs.scipy.org/doc/numpy-1.13.0/reference/\n",
    "- Basics: https://docs.scipy.org/doc/numpy-1.13.0/user/quickstart.html\n",
    "\n",
    "## Simple example\n",
    "we will plot $f(x) = x^3$ from -10 to 10"
   ]
  },
  {
   "cell_type": "code",
   "execution_count": 2,
   "metadata": {},
   "outputs": [
    {
     "data": {
      "image/png": "[encoded data removed]",
      "text/plain": [
       "<Figure size 432x288 with 1 Axes>"
      ]
     },
     "metadata": {},
     "output_type": "display_data"
    }
   ],
   "source": [
    "%matplotlib inline\n",
    "import matplotlib.pyplot as plt\n",
    "import numpy as np\n",
    "\n",
    "#create a array from -10 to 10 with an increment of 0.1\n",
    "x = np.arange(-10, 10.1, 0.1)\n",
    "#f(x) = x^3 ==> it is the beauty that you can use ordinary operators to do so. \n",
    "#You don't need to loop through the elements of the vector\n",
    "y = x**3\n",
    "\n",
    "plt.plot(x,y)\n",
    "plt.show()"
   ]
  },
  {
   "cell_type": "markdown",
   "metadata": {},
   "source": [
    "## Creation"
   ]
  },
  {
   "cell_type": "markdown",
   "metadata": {},
   "source": [
    "### A np array out of a list"
   ]
  },
  {
   "cell_type": "code",
   "execution_count": 7,
   "metadata": {},
   "outputs": [
    {
     "name": "stdout",
     "output_type": "stream",
     "text": [
      "[1 2 3 4]\n",
      "[[1 2 3]\n",
      " [4 5 6]\n",
      " [6 7 8]]\n",
      "6\n"
     ]
    }
   ],
   "source": [
    "a = np.array([1,2,3,4])\n",
    "print(a)\n",
    "\n",
    "b = np.array([[1,2,3],[4,5,6],[6,7,8]])\n",
    "print(b)\n",
    "print(b[1,2])"
   ]
  },
  {
   "cell_type": "markdown",
   "metadata": {},
   "source": [
    "### Zero and n arrays"
   ]
  },
  {
   "cell_type": "code",
   "execution_count": 12,
   "metadata": {},
   "outputs": [
    {
     "name": "stdout",
     "output_type": "stream",
     "text": [
      "[0. 0. 0. 0. 0.]\n",
      "[1. 1. 1. 1. 1.]\n",
      "[[0. 0. 0. 0. 0.]\n",
      " [0. 0. 0. 0. 0.]\n",
      " [0. 0. 0. 0. 0.]]\n",
      "-----------\n",
      "[[0. 1. 0. 1. 0.]\n",
      " [0. 0. 0. 0. 0.]\n",
      " [0. 0. 0. 0. 0.]]\n"
     ]
    }
   ],
   "source": [
    "a = np.zeros(5)\n",
    "print(a)\n",
    "# n - arrays\n",
    "b = a + 1\n",
    "print(b)\n",
    "\n",
    "#n dimensional array with zeros => use tuples\n",
    "c = np.zeros((3,5))\n",
    "print(c)\n",
    "\n",
    "#simple change of some values\n",
    "print('-----------')\n",
    "row = [0]\n",
    "col = [1,3]\n",
    "c[row,col] = 1\n",
    "print(c)"
   ]
  },
  {
   "cell_type": "markdown",
   "metadata": {},
   "source": [
    "### Ranges"
   ]
  },
  {
   "cell_type": "code",
   "execution_count": 7,
   "metadata": {},
   "outputs": [
    {
     "name": "stdout",
     "output_type": "stream",
     "text": [
      "1D Vector\n",
      "[ 0  1  2  3  4  5  6  7  8  9 10 11]\n",
      "-------------\n",
      "2D Matrix\n",
      "[[ 0  1  2  3]\n",
      " [ 4  5  6  7]\n",
      " [ 8  9 10 11]]\n",
      "-------------\n",
      "3D Tensor\n",
      "[[[ 0  1]\n",
      "  [ 2  3]\n",
      "  [ 4  5]]\n",
      "\n",
      " [[ 6  7]\n",
      "  [ 8  9]\n",
      "  [10 11]]]\n",
      "-------------\n"
     ]
    }
   ],
   "source": [
    "print(\"1D Vector\")\n",
    "print(np.arange(12))\n",
    "print(\"-------------\")\n",
    "\n",
    "print(\"2D Matrix\")\n",
    "print(np.arange(12).reshape(3,4))\n",
    "print(\"-------------\")\n",
    "\n",
    "print(\"3D Tensor\")\n",
    "print(np.arange(12).reshape(2,3,2))\n",
    "print(\"-------------\")\n"
   ]
  },
  {
   "cell_type": "code",
   "execution_count": 14,
   "metadata": {},
   "outputs": [
    {
     "name": "stdout",
     "output_type": "stream",
     "text": [
      "[2 3 4 5]\n"
     ]
    }
   ],
   "source": [
    "print(np.arange(2, 6))"
   ]
  },
  {
   "cell_type": "code",
   "execution_count": 17,
   "metadata": {},
   "outputs": [
    {
     "name": "stdout",
     "output_type": "stream",
     "text": [
      "[2.  4.6]\n"
     ]
    }
   ],
   "source": [
    "# from 2 to exclusive 6 with a step of 2.6\n",
    "print(np.arange(2, 6, 2.6))"
   ]
  },
  {
   "cell_type": "code",
   "execution_count": 20,
   "metadata": {},
   "outputs": [
    {
     "name": "stdout",
     "output_type": "stream",
     "text": [
      "[2.  2.5 3.  3.5 4.  4.5 5.  5.5 6. ]\n"
     ]
    }
   ],
   "source": [
    "# from 2 to 6 sliced into 9 pieces\n",
    "print(np.linspace(2, 6, 9))"
   ]
  },
  {
   "cell_type": "markdown",
   "metadata": {},
   "source": [
    "# Insights"
   ]
  },
  {
   "cell_type": "code",
   "execution_count": 19,
   "metadata": {},
   "outputs": [
    {
     "name": "stdout",
     "output_type": "stream",
     "text": [
      "1D Vector\n",
      "<class 'numpy.ndarray'>\n",
      "1\n",
      "(12,)\n",
      "12\n",
      "int32\n",
      "-------------\n",
      "2D Matrix\n",
      "2\n",
      "(3, 4)\n",
      "3\n",
      "-------------\n",
      "3D Tensor\n",
      "3\n",
      "(2, 3, 2)\n",
      "2\n",
      "int32\n",
      "-------------\n"
     ]
    }
   ],
   "source": [
    "print(\"1D Vector\")\n",
    "vector = np.arange(12)\n",
    "print(type(vector))\n",
    "print(vector.ndim)\n",
    "print(vector.shape)\n",
    "print(len(vector))\n",
    "print(vector.dtype)\n",
    "print(\"-------------\")\n",
    "\n",
    "print(\"2D Matrix\")\n",
    "matrix = np.arange(12).reshape(3,4)\n",
    "print(matrix.ndim)\n",
    "print(matrix.shape)\n",
    "print(len(matrix))\n",
    "print(\"-------------\")\n",
    "\n",
    "print(\"3D Tensor\")\n",
    "tensor = np.arange(12).reshape(2,3,2)\n",
    "print(tensor.ndim)\n",
    "print(tensor.shape)\n",
    "print(len(tensor))\n",
    "print(tensor.dtype)\n",
    "print(\"-------------\")\n"
   ]
  },
  {
   "cell_type": "markdown",
   "metadata": {},
   "source": [
    "## Manipulation\n",
    "### Basic operators"
   ]
  },
  {
   "cell_type": "code",
   "execution_count": 36,
   "metadata": {},
   "outputs": [
    {
     "name": "stdout",
     "output_type": "stream",
     "text": [
      "[-2.  -1.5 -1.  -0.5  0.   0.5  1.   1.5  2. ]\n",
      "[-1.  -0.5  0.   0.5  1.   1.5  2.   2.5  3. ]\n",
      "[-3.  -2.5 -2.  -1.5 -1.  -0.5  0.   0.5  1. ]\n",
      "[-6.  -4.5 -3.  -1.5  0.   1.5  3.   4.5  6. ]\n",
      "[-1.   -0.75 -0.5  -0.25  0.    0.25  0.5   0.75  1.  ]\n",
      "[-6.  -5.5 -5.  -4.5 -4.  -3.5 -3.  -2.5 -2. ]\n",
      "[12.    8.25  5.    2.25 -0.   -1.75 -3.   -3.75 -4.  ]\n"
     ]
    }
   ],
   "source": [
    "x = np.linspace(-2, 2, 9)\n",
    "print(x)\n",
    "# with one scalar\n",
    "print(x + 1)\n",
    "print(x - 1)\n",
    "print(x * 3)\n",
    "print(x / 2)\n",
    "\n",
    "y = np.linspace(-6, -2, 9)\n",
    "print(y)\n",
    "print(x*y)"
   ]
  },
  {
   "cell_type": "markdown",
   "metadata": {},
   "source": [
    "# Basic functions"
   ]
  },
  {
   "cell_type": "markdown",
   "metadata": {},
   "source": [
    "## mean"
   ]
  },
  {
   "cell_type": "code",
   "execution_count": 33,
   "metadata": {},
   "outputs": [
    {
     "name": "stdout",
     "output_type": "stream",
     "text": [
      "[[ 1  2  3  4  5  6]\n",
      " [12 92 -9 34  3 33]]\n",
      "-------------\n",
      "[ 3.5 27.5]\n",
      "---------\n",
      "[ 6.5 47.  -3.  19.   4.  19.5]\n",
      "---------\n",
      "[[ -2.5  -1.5  -0.5   0.5   1.5   2.5]\n",
      " [-15.5  64.5 -36.5   6.5 -24.5   5.5]]\n"
     ]
    }
   ],
   "source": [
    "x = np.array([[1,2,3,4,5,6],[12,92,-9,34,3,33]])\n",
    "print(x)\n",
    "print('-------------')\n",
    "mean_row = x.mean(axis = 1)\n",
    "print(mean_row)\n",
    "print('---------')\n",
    "mean_col = x.mean(axis = 0)\n",
    "print(mean_col)\n",
    "print('---------')\n",
    "#make the zero centric\n",
    "x = x.astype('float64')\n",
    "x[0] -= mean_row[0]\n",
    "x[1] -= mean_row[1]\n",
    "print(x)"
   ]
  },
  {
   "cell_type": "markdown",
   "metadata": {},
   "source": [
    "## std"
   ]
  },
  {
   "cell_type": "code",
   "execution_count": 37,
   "metadata": {},
   "outputs": [
    {
     "name": "stdout",
     "output_type": "stream",
     "text": [
      "1.0\n",
      "[-1.46385011 -0.87831007 -0.29277002  0.29277002  0.87831007  1.46385011]\n"
     ]
    }
   ],
   "source": [
    "std = np.std(x[0])\n",
    "print(std)\n",
    "x[0] /= std\n",
    "print(x[0])"
   ]
  }
 ],
 "metadata": {
  "kernelspec": {
   "display_name": "Python 3",
   "language": "python",
   "name": "python3"
  },
  "language_info": {
   "codemirror_mode": {
    "name": "ipython",
    "version": 3
   },
   "file_extension": ".py",
   "mimetype": "text/x-python",
   "name": "python",
   "nbconvert_exporter": "python",
   "pygments_lexer": "ipython3",
   "version": "3.6.5"
  }
 },
 "nbformat": 4,
 "nbformat_minor": 2
}
